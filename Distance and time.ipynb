{
 "cells": [
  {
   "cell_type": "code",
   "execution_count": 1,
   "metadata": {},
   "outputs": [],
   "source": [
    "from requests import get\n",
    "from requests.exceptions import RequestException\n",
    "from contextlib import closing\n",
    "import bs4\n",
    "from bs4 import BeautifulSoup\n",
    "\n",
    "import pandas as pd\n",
    "import pickle"
   ]
  },
  {
   "cell_type": "code",
   "execution_count": 2,
   "metadata": {},
   "outputs": [],
   "source": [
    "page = get('https://www.happyzebra.com/distance-calculator/farfrom-India.php')\n",
    "soup = BeautifulSoup(page.content, 'html.parser')\n",
    "root = soup.body\n",
    "not_useful_ul = root.find_next('ul')\n",
    "useful_ul = not_useful_ul.find_next('ul')\n",
    "useful_list = list(useful_ul.children)"
   ]
  },
  {
   "cell_type": "code",
   "execution_count": 3,
   "metadata": {},
   "outputs": [],
   "source": [
    "country_list = [str(i.find('a').contents[0])[9:].upper().split(\" \") \n",
    "                for i in useful_ul \n",
    "                if(not type(i.find('a')) == int)]"
   ]
  },
  {
   "cell_type": "code",
   "execution_count": 4,
   "metadata": {},
   "outputs": [],
   "source": [
    "for i in range(len(country_list)):\n",
    "    if country_list[i][-1] == 'DISTANCE':\n",
    "        country_list[i] = country_list[i][:-1]"
   ]
  },
  {
   "cell_type": "code",
   "execution_count": 5,
   "metadata": {},
   "outputs": [],
   "source": [
    "country_list = [\" \".join(i) for i in country_list]"
   ]
  },
  {
   "cell_type": "code",
   "execution_count": 6,
   "metadata": {},
   "outputs": [],
   "source": [
    "distance_list = [str(i.contents[1]).split(\" / \") for i in useful_ul\n",
    "                 if (not type(i) == bs4.element.NavigableString)]"
   ]
  },
  {
   "cell_type": "code",
   "execution_count": 7,
   "metadata": {},
   "outputs": [],
   "source": [
    "distance_miles = [float(distance_list[i][0].split(\" \")[1]) for i in range(len(distance_list))]"
   ]
  },
  {
   "cell_type": "code",
   "execution_count": 8,
   "metadata": {},
   "outputs": [],
   "source": [
    "distance_kms = [float(distance_list[i][1].split(\" \")[0]) for i in range(len(distance_list))]"
   ]
  },
  {
   "cell_type": "code",
   "execution_count": 9,
   "metadata": {},
   "outputs": [],
   "source": [
    "time_in_min = [int(distance_list[i][2].split(\" \")[0]) * 60 + \n",
    "               int(distance_list[i][2].split(\" \")[2]) \n",
    "               for i in range(len(distance_list))]"
   ]
  },
  {
   "cell_type": "code",
   "execution_count": 10,
   "metadata": {},
   "outputs": [],
   "source": [
    "country_distance_data = pd.DataFrame([[country_list[i], distance_miles[i], \n",
    "                                       distance_kms[i], time_in_min[i]] \n",
    "                                      for i in range(len(country_list))], \n",
    "                                     columns = ['country_name', 'distance_miles', \n",
    "                                                'distance_kms', 'time_in_min'])"
   ]
  },
  {
   "cell_type": "code",
   "execution_count": 11,
   "metadata": {},
   "outputs": [],
   "source": [
    "country_distance_data.to_pickle('./country_distance_data.pkl')\n",
    "country_distance_data.to_csv('./country_distance_data.csv')"
   ]
  }
 ],
 "metadata": {
  "kernelspec": {
   "display_name": "Python 3",
   "language": "python",
   "name": "python3"
  },
  "language_info": {
   "codemirror_mode": {
    "name": "ipython",
    "version": 3
   },
   "file_extension": ".py",
   "mimetype": "text/x-python",
   "name": "python",
   "nbconvert_exporter": "python",
   "pygments_lexer": "ipython3",
   "version": "3.7.1"
  }
 },
 "nbformat": 4,
 "nbformat_minor": 2
}
